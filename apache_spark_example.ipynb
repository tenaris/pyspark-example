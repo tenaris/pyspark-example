{
 "cells": [
  {
   "cell_type": "markdown",
   "metadata": {},
   "source": [
    "## Apache Spark Examples\n",
    "\n",
    "Apache Spark is an open source framework focused on massive parallel data manipulation.\n",
    "\n",
    "Spark provides a distributed engine able to scale from a single computer to clusters made of thousands of nodes. The engine can be driven using a set of API available for Java, Scala, Python and R languages.\n",
    "\n",
    "Below you can find some examples made using the Python API, also known as PySpark."
   ]
  },
  {
   "cell_type": "code",
   "execution_count": null,
   "metadata": {},
   "outputs": [],
   "source": [
    "from pyspark.sql import SparkSession\n",
    "from pyspark.sql import functions as f\n",
    "import matplotlib.pyplot as plt\n",
    "\n",
    "# The SparkSession is the main entry point to interact with Spark engine\n",
    "spark = SparkSession.builder.getOrCreate()"
   ]
  },
  {
   "cell_type": "code",
   "execution_count": null,
   "metadata": {},
   "outputs": [],
   "source": [
    "# Load the natality dataset stored as Parquet files (1.7 GB compressed)\n",
    "df = spark.read.parquet('/user/arota/esperia')"
   ]
  },
  {
   "cell_type": "code",
   "execution_count": null,
   "metadata": {},
   "outputs": [],
   "source": [
    "# Ask to Spark to count how many records are in the dataset\n",
    "number_of_records = df.count()\n",
    "print('Il dataset contiene %.3f milioni di record' % (number_of_records / 1e6))"
   ]
  },
  {
   "cell_type": "code",
   "execution_count": 4,
   "metadata": {
    "scrolled": true
   },
   "outputs": [
    {
     "name": "stdout",
     "output_type": "stream",
     "text": [
      "root\n",
      " |-- source_year: integer (nullable = true)\n",
      " |-- year: integer (nullable = true)\n",
      " |-- month: integer (nullable = true)\n",
      " |-- day: integer (nullable = true)\n",
      " |-- wday: integer (nullable = true)\n",
      " |-- state: string (nullable = true)\n",
      " |-- is_male: boolean (nullable = true)\n",
      " |-- child_race: integer (nullable = true)\n",
      " |-- weight_pounds: float (nullable = true)\n",
      " |-- plurality: integer (nullable = true)\n",
      " |-- apgar_1min: integer (nullable = true)\n",
      " |-- apgar_5min: integer (nullable = true)\n",
      " |-- mother_residence_state: string (nullable = true)\n",
      " |-- mother_race: integer (nullable = true)\n",
      " |-- mother_age: integer (nullable = true)\n",
      " |-- gestation_weeks: integer (nullable = true)\n",
      " |-- lmp: string (nullable = true)\n",
      " |-- mother_married: boolean (nullable = true)\n",
      " |-- mother_birth_state: string (nullable = true)\n",
      " |-- cigarette_use: boolean (nullable = true)\n",
      " |-- cigarettes_per_day: integer (nullable = true)\n",
      " |-- alcohol_use: boolean (nullable = true)\n",
      " |-- drinks_per_week: integer (nullable = true)\n",
      " |-- weight_gain_pounds: integer (nullable = true)\n",
      " |-- born_alive_alive: integer (nullable = true)\n",
      " |-- born_alive_dead: integer (nullable = true)\n",
      " |-- born_dead: integer (nullable = true)\n",
      " |-- ever_born: integer (nullable = true)\n",
      " |-- father_race: integer (nullable = true)\n",
      " |-- father_age: integer (nullable = true)\n",
      " |-- record_weight: integer (nullable = true)\n",
      "\n"
     ]
    }
   ],
   "source": [
    "# Visualize the structure of the dataset (column names and types)\n",
    "df.printSchema()"
   ]
  },
  {
   "cell_type": "code",
   "execution_count": 6,
   "metadata": {},
   "outputs": [
    {
     "name": "stdout",
     "output_type": "stream",
     "text": [
      "+----+-------+\n",
      "|year|  count|\n",
      "+----+-------+\n",
      "|1969|1800103|\n",
      "|1970|1868900|\n",
      "|1971|1781774|\n",
      "|1972|1749402|\n",
      "|1973|1839736|\n",
      "|1974|2029150|\n",
      "|1975|2232406|\n",
      "|1976|2463852|\n",
      "|1977|2772206|\n",
      "|1978|2865686|\n",
      "|1979|3184421|\n",
      "|1980|3310301|\n",
      "|1981|3319054|\n",
      "|1982|3376813|\n",
      "|1983|3337883|\n",
      "|1984|3360871|\n",
      "|1985|3765064|\n",
      "|1986|3760695|\n",
      "|1987|3813216|\n",
      "|1988|3913793|\n",
      "+----+-------+\n",
      "only showing top 20 rows\n",
      "\n"
     ]
    }
   ],
   "source": [
    "# Count how many babies were born each year and order the result by year\n",
    "babies_by_year_df = df.groupBy('year') \\\n",
    "    .count() \\\n",
    "    .orderBy('year')\n",
    "\n",
    "babies_by_year_df.show()"
   ]
  },
  {
   "cell_type": "code",
   "execution_count": 7,
   "metadata": {},
   "outputs": [
    {
     "data": {
      "image/png": "[encoded data removed]",
      "text/plain": [
       "<Figure size 432x288 with 1 Axes>"
      ]
     },
     "metadata": {
      "needs_background": "light"
     },
     "output_type": "display_data"
    }
   ],
   "source": [
    "# Plot the number of babies by year\n",
    "pd = babies_by_year_df.toPandas()\n",
    "plt.plot(pd['year'], pd['count'], 'x');"
   ]
  },
  {
   "cell_type": "code",
   "execution_count": 8,
   "metadata": {},
   "outputs": [
    {
     "name": "stdout",
     "output_type": "stream",
     "text": [
      "+-----+--------+\n",
      "|month|   count|\n",
      "+-----+--------+\n",
      "|    8|12284300|\n",
      "|    7|12148131|\n",
      "|    9|12027623|\n",
      "|   10|11755249|\n",
      "|    3|11514925|\n",
      "|    5|11492474|\n",
      "|   12|11474828|\n",
      "|    6|11393383|\n",
      "|    1|11209768|\n",
      "|   11|11062739|\n",
      "|    4|10990267|\n",
      "|    2|10473076|\n",
      "+-----+--------+\n",
      "\n"
     ]
    }
   ],
   "source": [
    "# Now we want to discover which is the month with highest natality\n",
    "babies_by_month_df = df.groupBy('month') \\\n",
    "    .count() \\\n",
    "    .orderBy(f.col('count').desc())\n",
    "\n",
    "babies_by_month_df.show()"
   ]
  },
  {
   "cell_type": "code",
   "execution_count": 9,
   "metadata": {},
   "outputs": [
    {
     "data": {
      "image/png": "[encoded data removed]",
      "text/plain": [
       "<Figure size 432x288 with 1 Axes>"
      ]
     },
     "metadata": {
      "needs_background": "light"
     },
     "output_type": "display_data"
    }
   ],
   "source": [
    "# Plot the results as histogram\n",
    "pd = babies_by_month_df.toPandas()\n",
    "plt.bar(pd['month'], pd['count']);"
   ]
  }
 ],
 "metadata": {
  "kernelspec": {
   "display_name": "Tamsa Steelshop Internal Scale",
   "language": "python",
   "name": "tamsa-steelshop-internal-scale"
  },
  "language_info": {
   "codemirror_mode": {
    "name": "ipython",
    "version": 3
   },
   "file_extension": ".py",
   "mimetype": "text/x-python",
   "name": "python",
   "nbconvert_exporter": "python",
   "pygments_lexer": "ipython3",
   "version": "3.6.2"
  }
 },
 "nbformat": 4,
 "nbformat_minor": 2
}
